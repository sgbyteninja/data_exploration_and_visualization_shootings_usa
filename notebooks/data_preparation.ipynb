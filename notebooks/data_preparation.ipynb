{
 "cells": [
  {
   "cell_type": "code",
   "execution_count": 111,
   "metadata": {},
   "outputs": [],
   "source": [
    "import pandas as pd"
   ]
  },
  {
   "cell_type": "code",
   "execution_count": 112,
   "metadata": {},
   "outputs": [],
   "source": [
    "data = pd.read_csv(\"../data/raw/shootings.csv\")\n"
   ]
  },
  {
   "cell_type": "code",
   "execution_count": 113,
   "metadata": {},
   "outputs": [],
   "source": [
    "# # Function to parse dates with multiple formats\n",
    "# def parse_dates(date_series):\n",
    "#     formats = [\"%Y-%m-%d\", \"%m/%d/%Y\", \"%d-%b-%Y\"]  # List of possible formats\n",
    "#     for fmt in formats:\n",
    "#         date_series = pd.to_datetime(date_series, format=fmt, errors='coerce')\n",
    "#         if date_series.notna().all():  # Check if all dates are valid\n",
    "#             return date_series\n",
    "#     return date_series  # Return the last attempt\n",
    "\n",
    "# # Convert the 'date' column to datetime using the parsing function\n",
    "# data['date'] = parse_dates(data['date'])\n",
    "\n",
    "# # Extract the year from the date\n",
    "# data['year'] = data['date'].dt.year\n"
   ]
  },
  {
   "cell_type": "code",
   "execution_count": 114,
   "metadata": {},
   "outputs": [
    {
     "name": "stderr",
     "output_type": "stream",
     "text": [
      "/var/folders/l9/1t32pl1s7bs8hwtdsvql5l0h0000gn/T/ipykernel_8487/2935907717.py:2: UserWarning: Could not infer format, so each element will be parsed individually, falling back to `dateutil`. To ensure parsing is consistent and as-expected, please specify a format.\n",
      "  data['date'] = pd.to_datetime(data['date'], errors='coerce')\n"
     ]
    }
   ],
   "source": [
    "#Convert the 'date' column to datetime\n",
    "data['date'] = pd.to_datetime(data['date'], errors='coerce')\n",
    "#Extract the year from the date\n",
    "data['year'] = data['date'].dt.year"
   ]
  },
  {
   "cell_type": "markdown",
   "metadata": {},
   "source": [
    "# Creating a consistent 'race' mappings"
   ]
  },
  {
   "cell_type": "code",
   "execution_count": 115,
   "metadata": {},
   "outputs": [
    {
     "data": {
      "text/plain": [
       "array(['-', 'White', 'Black', 'Latino', 'Asian', 'Other', 'White ',\n",
       "       'Native American', 'white', 'black', 'unclear'], dtype=object)"
      ]
     },
     "execution_count": 115,
     "metadata": {},
     "output_type": "execute_result"
    }
   ],
   "source": [
    "data.race.unique()"
   ]
  },
  {
   "cell_type": "code",
   "execution_count": 116,
   "metadata": {},
   "outputs": [],
   "source": [
    "\n",
    "# Create a mapping dictionary to standardize race labels\n",
    "race_mapping = {\n",
    "    '-': 'Unknown',\n",
    "    'White': 'White',\n",
    "    'white': 'White',\n",
    "    'White ': 'White',\n",
    "    'Black': 'Black',\n",
    "    'black': 'Black',\n",
    "    'Latino': 'Latino',\n",
    "    'Asian': 'Asian',\n",
    "    'Other': 'Other',\n",
    "    'Native American': 'Native American',\n",
    "    'unclear': 'Unknown'\n",
    "}\n",
    "\n",
    "# Apply the mapping to the 'race' column\n",
    "data['race'] = data['race'].map(race_mapping)\n",
    "\n"
   ]
  },
  {
   "cell_type": "markdown",
   "metadata": {},
   "source": [
    "# Creating a consistent shooting location mappings"
   ]
  },
  {
   "cell_type": "code",
   "execution_count": 117,
   "metadata": {},
   "outputs": [],
   "source": [
    "# Create a mapping dictionary to standardize location labels\n",
    "location_mapping = {\n",
    "    'workplace': 'Workplace',\n",
    "    'School': 'School',\n",
    "    'Other': 'Other',\n",
    "    'Workplace': 'Workplace',\n",
    "    'religious': 'Religious',\n",
    "    'Religious': 'Religious',\n",
    "    'Military': 'Military',\n",
    "    'Airport': 'Airport',\n",
    "    '\\nWorkplace': 'Workplace',\n",
    "    'Other\\n': 'Other'\n",
    "}\n",
    "\n",
    "# Apply the mapping to the 'location.1' column\n",
    "data['location.1'] = data['location.1'].map(location_mapping)"
   ]
  },
  {
   "cell_type": "markdown",
   "metadata": {},
   "source": [
    "# Mental Health Mapping"
   ]
  },
  {
   "cell_type": "code",
   "execution_count": 118,
   "metadata": {},
   "outputs": [],
   "source": [
    "mapping_m_h = {\n",
    "    '-': 'Unknown',\n",
    "    'yes': 'Yes',\n",
    "    'TBD': 'Unknown',\n",
    "    'Yes': 'Yes',\n",
    "    'Unclear': 'Unknown',\n",
    "    'Unknown': 'Unknown',\n",
    "    'No': 'No',\n",
    "    'Unclear ': 'Unknown'  # Note the trailing space\n",
    "}\n",
    "data['prior_signs_mental_health_issues'] = data['prior_signs_mental_health_issues'].map(mapping_m_h )"
   ]
  },
  {
   "cell_type": "markdown",
   "metadata": {},
   "source": [
    "# Gender Mapping"
   ]
  },
  {
   "cell_type": "code",
   "execution_count": 119,
   "metadata": {},
   "outputs": [],
   "source": [
    "gender_mapping = {\n",
    "    'M': 'Male',\n",
    "    'F (\"identifies as transgender\" and \"Audrey Hale is a biological woman who, on a social media profile, used male pronouns,” according to Nashville Metro PD officials)': 'Female (Transgender)',\n",
    "    'Male & Female': 'Mixed/Gender Diverse',\n",
    "    'F': 'Female',\n",
    "    'Male': 'Male',\n",
    "    'Female': 'Female'\n",
    "}\n",
    "\n",
    "# Apply the mapping\n",
    "data['gender'] = data['gender'].map(gender_mapping)"
   ]
  },
  {
   "cell_type": "markdown",
   "metadata": {},
   "source": [
    "# Creating a state column"
   ]
  },
  {
   "cell_type": "code",
   "execution_count": 120,
   "metadata": {},
   "outputs": [],
   "source": [
    "data['state'] = data['location'].str.split(', ').str[1]"
   ]
  },
  {
   "cell_type": "markdown",
   "metadata": {},
   "source": [
    "# Making age int"
   ]
  },
  {
   "cell_type": "code",
   "execution_count": 121,
   "metadata": {},
   "outputs": [],
   "source": [
    "data.age_of_shooter.replace('-', pd.NA, inplace=True)\n",
    "\n",
    "# Convert the Series to numeric, coerce errors to NaN\n",
    "data.age_of_shooter = pd.to_numeric(data.age_of_shooter, errors='coerce')"
   ]
  },
  {
   "cell_type": "code",
   "execution_count": 122,
   "metadata": {},
   "outputs": [],
   "source": [
    "data = data[data['year'] != 2024]"
   ]
  },
  {
   "cell_type": "code",
   "execution_count": 123,
   "metadata": {},
   "outputs": [],
   "source": [
    "# Replace '-' with pd.NA\n",
    "data['longitude'] = data['longitude'].replace('-', pd.NA)\n",
    "\n",
    "# Convert the 'values' column to numeric\n",
    "data['longitude'] = pd.to_numeric(data['longitude'], errors='coerce')\n",
    "\n",
    "\n",
    "# Replace '-' with pd.NA\n",
    "data['latitude'] = data['latitude'].replace('-', pd.NA)\n",
    "\n",
    "# Convert the 'values' column to numeric\n",
    "data['latitude'] = pd.to_numeric(data['latitude'], errors='coerce')"
   ]
  },
  {
   "cell_type": "code",
   "execution_count": 124,
   "metadata": {},
   "outputs": [
    {
     "data": {
      "text/plain": [
       "array(['Unknown', 'Yes', 'No'], dtype=object)"
      ]
     },
     "execution_count": 124,
     "metadata": {},
     "output_type": "execute_result"
    }
   ],
   "source": [
    "data.prior_signs_mental_health_issues.unique()"
   ]
  },
  {
   "cell_type": "code",
   "execution_count": 125,
   "metadata": {},
   "outputs": [],
   "source": [
    "data.to_csv('../data/interim/data_cleaned.csv', index=False)"
   ]
  }
 ],
 "metadata": {
  "kernelspec": {
   "display_name": "base",
   "language": "python",
   "name": "python3"
  },
  "language_info": {
   "codemirror_mode": {
    "name": "ipython",
    "version": 3
   },
   "file_extension": ".py",
   "mimetype": "text/x-python",
   "name": "python",
   "nbconvert_exporter": "python",
   "pygments_lexer": "ipython3",
   "version": "3.11.5"
  }
 },
 "nbformat": 4,
 "nbformat_minor": 2
}
